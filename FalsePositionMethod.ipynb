{
  "nbformat": 4,
  "nbformat_minor": 0,
  "metadata": {
    "colab": {
      "name": "FalsePositionMethod.ipynb",
      "provenance": [],
      "collapsed_sections": [],
      "authorship_tag": "ABX9TyO1IMAYMGOsaiPxVnb22QF2",
      "include_colab_link": true
    },
    "kernelspec": {
      "name": "python3",
      "display_name": "Python 3"
    },
    "language_info": {
      "name": "python"
    }
  },
  "cells": [
    {
      "cell_type": "markdown",
      "metadata": {
        "id": "view-in-github",
        "colab_type": "text"
      },
      "source": [
        "<a href=\"https://colab.research.google.com/github/nightmare117/Numerical-Algorithm-python/blob/main/FalsePositionMethod.ipynb\" target=\"_parent\"><img src=\"https://colab.research.google.com/assets/colab-badge.svg\" alt=\"Open In Colab\"/></a>"
      ]
    },
    {
      "cell_type": "code",
      "metadata": {
        "id": "Xb0Sez9GaDE6"
      },
      "source": [
        "import math\n",
        "\n",
        "def f(x):\n",
        "  return x**x-5*x-9\n",
        "\n",
        "def false_position(L,R,N,error):\n",
        "  if f(L)*f(R)>0.0:\n",
        "    print('Given values do not bracket the root!')\n",
        "\n",
        "  step=1;\n",
        "  x=L-(f(L)*(R-L)/(f(R)-(f(L)))) # in-case 0 iteration\n",
        "  terror=1e15\n",
        "  last=1e15\n",
        "  while ((N>=step)and(terror>error)):\n",
        "    x=L-(f(L)*(R-L)/(f(R)-(f(L))))\n",
        "    terror=(abs(x-last)/x)*100.0\n",
        "    step=step+1;\n",
        "    last=x\n",
        "    if(f(x)*f(L)<=0.0):\n",
        "      R=x\n",
        "    else:\n",
        "      L=x\n",
        "    \n",
        "  print('Required Root is '+ str(x))\n",
        "\n",
        "x=input('Left Guess: ')\n",
        "y=input('Right guess: ')\n",
        "a=input('Total iteration: ')\n",
        "err=input('Tolerance: ')\n",
        "\n",
        "x=float(x)\n",
        "y=float(y)\n",
        "a=int(a)\n",
        "err=float(err)\n",
        "\n",
        "false_position(x,y,a,err)"
      ],
      "execution_count": null,
      "outputs": []
    }
  ]
}