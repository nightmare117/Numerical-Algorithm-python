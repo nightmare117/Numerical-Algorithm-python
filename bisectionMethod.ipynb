{
  "nbformat": 4,
  "nbformat_minor": 0,
  "metadata": {
    "colab": {
      "name": "Untitled0.ipynb",
      "provenance": [],
      "collapsed_sections": [],
      "authorship_tag": "ABX9TyNKb26JWQa3hLNsreZyU2yu",
      "include_colab_link": true
    },
    "kernelspec": {
      "name": "python3",
      "display_name": "Python 3"
    },
    "language_info": {
      "name": "python"
    }
  },
  "cells": [
    {
      "cell_type": "markdown",
      "metadata": {
        "id": "view-in-github",
        "colab_type": "text"
      },
      "source": [
        "<a href=\"https://colab.research.google.com/github/nightmare117/Numerical-Algorithm-python/blob/main/bisectionMethod.ipynb\" target=\"_parent\"><img src=\"https://colab.research.google.com/assets/colab-badge.svg\" alt=\"Open In Colab\"/></a>"
      ]
    },
    {
      "cell_type": "code",
      "metadata": {
        "colab": {
          "base_uri": "https://localhost:8080/"
        },
        "id": "NGZKWgiCR1gH",
        "outputId": "c184e346-7bb3-4a0f-9d56-b0259d053c42"
      },
      "source": [
        "import math\n",
        "\n",
        "def f(x):\n",
        "  return x*x-x-1\n",
        "\n",
        "def bisection(L,R,N,error):\n",
        "  if f(L)*f(R)>0.0:\n",
        "    print('Given values do not bracket the root!')\n",
        "\n",
        "  step=1;\n",
        "  mid=(L+R)/2.0;\n",
        "  terror=1e15\n",
        "  last=1e15\n",
        "  while ((N>=step)and(terror>error)):\n",
        "    x=(L+R)/2.0;\n",
        "    terror=(abs(x-last)/x)*100.0\n",
        "    step=step+1;\n",
        "    last=x\n",
        "    if(f(x)*f(L)<=0.0):\n",
        "      R=x\n",
        "    else:\n",
        "      L=x\n",
        "    \n",
        "  print('Required Root is '+ str(x))\n",
        "\n",
        "x=input('Left Guess: ')\n",
        "y=input('Right guess: ')\n",
        "a=input('Total iteration: ')\n",
        "err=input('Tolerance: ')\n",
        "\n",
        "x=float(x)\n",
        "y=float(y)\n",
        "a=int(a)\n",
        "err=float(err)\n",
        "\n",
        "bisection(x,y,a,err)"
      ],
      "execution_count": 6,
      "outputs": [
        {
          "output_type": "stream",
          "name": "stdout",
          "text": [
            "Left Guess: 1\n",
            "Right guess: 2\n",
            "Total iteration: 25\n",
            "Tolerance: 1.4901161193847656e-08\n",
            "Required Root is 1.6180339753627777\n"
          ]
        }
      ]
    }
  ]
}