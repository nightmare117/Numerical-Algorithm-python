{
  "nbformat": 4,
  "nbformat_minor": 0,
  "metadata": {
    "colab": {
      "name": "FixedPointIteration.ipynb",
      "provenance": [],
      "authorship_tag": "ABX9TyOtiudJeFB3NhaoZ/OMQxPQ",
      "include_colab_link": true
    },
    "kernelspec": {
      "name": "python3",
      "display_name": "Python 3"
    },
    "language_info": {
      "name": "python"
    }
  },
  "cells": [
    {
      "cell_type": "markdown",
      "metadata": {
        "id": "view-in-github",
        "colab_type": "text"
      },
      "source": [
        "<a href=\"https://colab.research.google.com/github/nightmare117/Numerical-Algorithm-python/blob/main/FixedPointIteration.ipynb\" target=\"_parent\"><img src=\"https://colab.research.google.com/assets/colab-badge.svg\" alt=\"Open In Colab\"/></a>"
      ]
    },
    {
      "cell_type": "code",
      "metadata": {
        "colab": {
          "base_uri": "https://localhost:8080/"
        },
        "id": "zZkd5lgzlZU8",
        "outputId": "8966acc4-dbc0-4f42-b5e3-814d5c49a480"
      },
      "source": [
        "import math\n",
        "\n",
        "def g(x):\n",
        "  return 1/(math.sqrt(x+1))\n",
        "\n",
        "def fixed_point(x,N,error):\n",
        "\n",
        "  step=1;\n",
        "  terror=1e15\n",
        "  last=1e15\n",
        "  while ((N>=step)and(terror>error)):\n",
        "   x=g(x)\n",
        "   terror=(abs(x-last)/x)*100.0;\n",
        "   last=x\n",
        "    \n",
        "  print('Required Root is '+ str(x))\n",
        "\n",
        "x=input('initial Guess: ')\n",
        "a=input('Total iteration: ')\n",
        "err=input('Tolerance: ')\n",
        "\n",
        "x=float(x)\n",
        "a=int(a)\n",
        "err=float(err)\n",
        "\n",
        "fixed_point(x,a,err)"
      ],
      "execution_count": 3,
      "outputs": [
        {
          "output_type": "stream",
          "name": "stdout",
          "text": [
            "initial Guess: 2\n",
            "Total iteration: 10\n",
            "Tolerance: 0.00001\n",
            "Required Root is 0.754877674880294\n"
          ]
        }
      ]
    }
  ]
}